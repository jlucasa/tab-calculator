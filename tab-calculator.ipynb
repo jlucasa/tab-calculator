{
 "cells": [
  {
   "cell_type": "code",
   "execution_count": 22,
   "metadata": {},
   "outputs": [],
   "source": [
    "EVERYONE_TEXT = 'everyone'\n",
    "\n",
    "import re\n",
    "import typing\n",
    "from collections import defaultdict"
   ]
  },
  {
   "cell_type": "code",
   "execution_count": 26,
   "metadata": {},
   "outputs": [],
   "source": [
    "class Item:\n",
    "    def __init__(self, name: str, cost: float, people_to_pay: typing.List) -> None:\n",
    "        self.name = name\n",
    "        self.cost = cost\n",
    "        self.people_to_pay = people_to_pay\n",
    "\n",
    "    def __repr__(self) -> str:\n",
    "        return self.__str__()\n",
    "\n",
    "    def __str__(self) -> str:\n",
    "        return f'Item {self.name} with cost {self.cost} and buyers {[person.name.capitalize() for person in self.people_to_pay]}'\n",
    "\n",
    "class Person:\n",
    "    def __init__(self, name: str, items: typing.List) -> None:\n",
    "        self.name = name\n",
    "        self.items = items\n",
    "    \n",
    "    def total_cost(self) -> float:\n",
    "        return sum([item.cost for item in self.items])\n",
    "\n",
    "    def __repr__(self) -> str:\n",
    "        return self.__str__()\n",
    "    \n",
    "    def __str__(self) -> str:\n",
    "        return f'{self.name}, in charge of {[item.name.capitalize() for item in self.items]} with a total cost of {self.total_cost()}'"
   ]
  },
  {
   "cell_type": "code",
   "execution_count": 27,
   "metadata": {},
   "outputs": [],
   "source": [
    "def remove_currency_symbols(cost_with_currency: str) -> str:\n",
    "    return re.sub(r'[^\\d.,]+', '', cost_with_currency)\n",
    "\n",
    "def get_people_in_line(formatted_people: str, people: typing.List[Person]) -> list:\n",
    "    people_in_line = [person.lower() for person in re.findall(r'(\\w+)', formatted_people)]\n",
    "\n",
    "    if 'everyone' in people_in_line:\n",
    "        return people\n",
    "\n",
    "    extracted_people = [person for person in people if person.name in people_in_line]\n",
    "\n",
    "    if len(people_in_line) != len(extracted_people):\n",
    "        people_not_found = [person.name for person in people if person.name not in people_in_line]\n",
    "        raise BaseException(f'Some people could not be found in the list of names that you provided: {people_not_found}')\n",
    "\n",
    "    return extracted_people\n",
    "\n",
    "\n",
    "def get_line_items(line: str, people: typing.List[Person]) -> typing.List[str]:\n",
    "    pattern = r'(.+): (.+) \\((.+)\\)'\n",
    "\n",
    "    matches = re.findall(pattern, line)\n",
    "    \n",
    "    if len(matches) == 0:\n",
    "        raise BaseException(f'Incorrectly formatted line: {pattern}')\n",
    "\n",
    "    line_items = matches[0]\n",
    "\n",
    "    if len(line_items) != 3:\n",
    "        raise BaseException(f'Incorrectly formatted line: {pattern}')\n",
    "    \n",
    "    return [\n",
    "        line_items[0],\n",
    "        float(remove_currency_symbols(line_items[1])),\n",
    "        get_people_in_line(line_items[2], people)\n",
    "    ]\n",
    "\n",
    "def parse_line(line: str, people: typing.List[Person]) -> Item:\n",
    "    item, cost, people_to_pay = get_line_items(line, people)\n",
    "    return Item(name=item, cost=cost, people_to_pay=people_to_pay)\n",
    "\n",
    "def parse_all_lines(fp: str, people: typing.List[Person]) -> typing.List[Item]:\n",
    "    with open(fp, 'r') as file:\n",
    "        lines = file.readlines()\n",
    "        return [parse_line(line, people) for line in lines]"
   ]
  },
  {
   "cell_type": "code",
   "execution_count": 28,
   "metadata": {},
   "outputs": [
    {
     "data": {
      "text/plain": [
       "[Item Lemon juice with cost 16.99 and buyers ['Jared'],\n",
       " Item Toilet paper with cost 6.33 and buyers ['Jared', 'Carter', 'Taimur'],\n",
       " Item Paper towels with cost 6.27 and buyers ['Jared', 'Carter', 'Taimur'],\n",
       " Item Peaches with cost 10.99 and buyers ['Carter'],\n",
       " Item Rinse aid with cost 3.65 and buyers ['Jared', 'Carter', 'Taimur'],\n",
       " Item Dish soap with cost 3.66 and buyers ['Jared', 'Carter', 'Taimur'],\n",
       " Item Bounce dryer sheets with cost 2.92 and buyers ['Jared', 'Carter', 'Taimur'],\n",
       " Item Magic erasers with cost 3.66 and buyers ['Jared', 'Carter', 'Taimur'],\n",
       " Item Steaks with cost 17.34 and buyers ['Jared', 'Carter', 'Taimur'],\n",
       " Item Gillette razors with cost 38.99 and buyers ['Jared'],\n",
       " Item Degree deodorant with cost 14.99 and buyers ['Jared'],\n",
       " Item Cremo shave cream with cost 14.99 and buyers ['Carter'],\n",
       " Item Degree deodorant with cost 14.99 and buyers ['Carter'],\n",
       " Item Clorox wand with cost 4.99 and buyers ['Jared', 'Carter', 'Taimur'],\n",
       " Item Clorox wipes with cost 3.88 and buyers ['Jared', 'Carter', 'Taimur'],\n",
       " Item Downy scent beads with cost 4.47 and buyers ['Jared', 'Carter', 'Taimur'],\n",
       " Item Bath mat with cost 5.0 and buyers ['Jared', 'Carter', 'Taimur'],\n",
       " Item Bath mat with cost 7.5 and buyers ['Carter', 'Taimur'],\n",
       " Item Tax with cost 6.83 and buyers ['Jared', 'Carter', 'Taimur']]"
      ]
     },
     "execution_count": 28,
     "metadata": {},
     "output_type": "execute_result"
    }
   ],
   "source": [
    "person_names = input('Please enter all names on this tab, separated by a comma.')\n",
    "\n",
    "person_names = [name.strip().lower() for name in person_names.split(',')]\n",
    "people = [Person(name=name, items=[]) for name in person_names]\n",
    "\n",
    "parse_all_lines('./tabs/costco/costco-tab-08142022.txt', people)"
   ]
  }
 ],
 "metadata": {
  "kernelspec": {
   "display_name": "Python 3.7.13 ('base')",
   "language": "python",
   "name": "python3"
  },
  "language_info": {
   "codemirror_mode": {
    "name": "ipython",
    "version": 3
   },
   "file_extension": ".py",
   "mimetype": "text/x-python",
   "name": "python",
   "nbconvert_exporter": "python",
   "pygments_lexer": "ipython3",
   "version": "3.7.13"
  },
  "orig_nbformat": 4,
  "vscode": {
   "interpreter": {
    "hash": "00b1ac6c2f042e79a0a2fd4a2fd608a44fbfe38edae15a73a2d5474130574aff"
   }
  }
 },
 "nbformat": 4,
 "nbformat_minor": 2
}

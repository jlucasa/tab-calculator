{
 "cells": [
  {
   "cell_type": "code",
   "execution_count": 10,
   "metadata": {},
   "outputs": [],
   "source": [
    "EVERYONE_TEXT = 'everyone'\n",
    "\n",
    "import re\n",
    "\n",
    "def line_format_is_consistent(line: str) -> bool:\n",
    "    return ':' in line and '(' in line and ')' in line\n",
    "\n",
    "def remove_currency_symbols(cost_with_currency: str) -> str:\n",
    "    return re.sub(r'[^\\d.,]+', cost_with_currency)\n",
    "\n",
    "def parse_line(line: str, all_people: list) -> dict:\n",
    "    if not line_format_is_consistent(line):\n",
    "        raise BaseException(f'Incorrectly formatted line: {line}')\n",
    "\n",
    "    item_and_cost = line.split(':')\n",
    "    item = item_and_cost[0].strip().lower()\n",
    "    cost_and_people_to_pay = item_and_cost[1].strip().split()\n",
    "    cost = float(remove_currency_symbols(cost_and_people_to_pay[0]))\n",
    "    people_to_pay = [person.strip().lower() for person in cost_and_people_to_pay[1].split(',')]\n",
    "\n",
    "    for person in people_to_pay:\n",
    "        if person not in all_people and person.lower() != EVERYONE_TEXT:\n",
    "            raise BaseException(f'{person} was not found in {all_people}')\n",
    "\n",
    "    return {\n",
    "        'item': item,\n",
    "        'cost': cost,\n",
    "        'people': people_to_pay\n",
    "    }\n",
    "\n",
    "def get_all_people(lines: list) -> list:\n",
    "    pattern = re.compile(r'\\((.+)\\)')\n",
    "    unique_people = set([pattern.search(line).group(1) for line in lines])\n",
    "    return list(unique_people)\n",
    "\n",
    "def parse_all_lines(fp: str, people: list) -> list:\n",
    "    with open(fp, 'r') as file:\n",
    "        lines = file.readlines()\n",
    "        people = get_all_people(lines)\n",
    "        return [parse_line(line, people) for line in lines]"
   ]
  },
  {
   "cell_type": "code",
   "execution_count": 5,
   "metadata": {},
   "outputs": [
    {
     "ename": "TypeError",
     "evalue": "parse_line() missing 1 required positional argument: 'all_people'",
     "output_type": "error",
     "traceback": [
      "\u001b[0;31m---------------------------------------------------------------------------\u001b[0m",
      "\u001b[0;31mTypeError\u001b[0m                                 Traceback (most recent call last)",
      "\u001b[0;32m<ipython-input-5-1a39646b925e>\u001b[0m in \u001b[0;36m<module>\u001b[0;34m\u001b[0m\n\u001b[0;32m----> 1\u001b[0;31m \u001b[0mparse_all_lines\u001b[0m\u001b[0;34m(\u001b[0m\u001b[0;34m'./tabs/costco/costco-tab-08142022.txt'\u001b[0m\u001b[0;34m)\u001b[0m\u001b[0;34m\u001b[0m\u001b[0;34m\u001b[0m\u001b[0m\n\u001b[0m",
      "\u001b[0;32m<ipython-input-4-c19d6b66b021>\u001b[0m in \u001b[0;36mparse_all_lines\u001b[0;34m(fp)\u001b[0m\n\u001b[1;32m      2\u001b[0m     \u001b[0;32mwith\u001b[0m \u001b[0mopen\u001b[0m\u001b[0;34m(\u001b[0m\u001b[0mfp\u001b[0m\u001b[0;34m,\u001b[0m \u001b[0;34m'r'\u001b[0m\u001b[0;34m)\u001b[0m \u001b[0;32mas\u001b[0m \u001b[0mfile\u001b[0m\u001b[0;34m:\u001b[0m\u001b[0;34m\u001b[0m\u001b[0;34m\u001b[0m\u001b[0m\n\u001b[1;32m      3\u001b[0m         \u001b[0mlines\u001b[0m \u001b[0;34m=\u001b[0m \u001b[0mfile\u001b[0m\u001b[0;34m.\u001b[0m\u001b[0mreadlines\u001b[0m\u001b[0;34m(\u001b[0m\u001b[0;34m)\u001b[0m\u001b[0;34m\u001b[0m\u001b[0;34m\u001b[0m\u001b[0m\n\u001b[0;32m----> 4\u001b[0;31m         \u001b[0;32mreturn\u001b[0m \u001b[0;34m[\u001b[0m\u001b[0mparse_line\u001b[0m\u001b[0;34m(\u001b[0m\u001b[0mline\u001b[0m\u001b[0;34m)\u001b[0m \u001b[0;32mfor\u001b[0m \u001b[0mline\u001b[0m \u001b[0;32min\u001b[0m \u001b[0mlines\u001b[0m\u001b[0;34m]\u001b[0m\u001b[0;34m\u001b[0m\u001b[0;34m\u001b[0m\u001b[0m\n\u001b[0m",
      "\u001b[0;32m<ipython-input-4-c19d6b66b021>\u001b[0m in \u001b[0;36m<listcomp>\u001b[0;34m(.0)\u001b[0m\n\u001b[1;32m      2\u001b[0m     \u001b[0;32mwith\u001b[0m \u001b[0mopen\u001b[0m\u001b[0;34m(\u001b[0m\u001b[0mfp\u001b[0m\u001b[0;34m,\u001b[0m \u001b[0;34m'r'\u001b[0m\u001b[0;34m)\u001b[0m \u001b[0;32mas\u001b[0m \u001b[0mfile\u001b[0m\u001b[0;34m:\u001b[0m\u001b[0;34m\u001b[0m\u001b[0;34m\u001b[0m\u001b[0m\n\u001b[1;32m      3\u001b[0m         \u001b[0mlines\u001b[0m \u001b[0;34m=\u001b[0m \u001b[0mfile\u001b[0m\u001b[0;34m.\u001b[0m\u001b[0mreadlines\u001b[0m\u001b[0;34m(\u001b[0m\u001b[0;34m)\u001b[0m\u001b[0;34m\u001b[0m\u001b[0;34m\u001b[0m\u001b[0m\n\u001b[0;32m----> 4\u001b[0;31m         \u001b[0;32mreturn\u001b[0m \u001b[0;34m[\u001b[0m\u001b[0mparse_line\u001b[0m\u001b[0;34m(\u001b[0m\u001b[0mline\u001b[0m\u001b[0;34m)\u001b[0m \u001b[0;32mfor\u001b[0m \u001b[0mline\u001b[0m \u001b[0;32min\u001b[0m \u001b[0mlines\u001b[0m\u001b[0;34m]\u001b[0m\u001b[0;34m\u001b[0m\u001b[0;34m\u001b[0m\u001b[0m\n\u001b[0m",
      "\u001b[0;31mTypeError\u001b[0m: parse_line() missing 1 required positional argument: 'all_people'"
     ]
    }
   ],
   "source": [
    "parse_all_lines('./tabs/costco/costco-tab-08142022.txt', ['everyone'].extend())"
   ]
  }
 ],
 "metadata": {
  "kernelspec": {
   "display_name": "Python 3.8.1 64-bit",
   "language": "python",
   "name": "python3"
  },
  "language_info": {
   "codemirror_mode": {
    "name": "ipython",
    "version": 3
   },
   "file_extension": ".py",
   "mimetype": "text/x-python",
   "name": "python",
   "nbconvert_exporter": "python",
   "pygments_lexer": "ipython3",
   "version": "3.8.1"
  },
  "orig_nbformat": 4,
  "vscode": {
   "interpreter": {
    "hash": "aee8b7b246df8f9039afb4144a1f6fd8d2ca17a180786b69acc140d282b71a49"
   }
  }
 },
 "nbformat": 4,
 "nbformat_minor": 2
}

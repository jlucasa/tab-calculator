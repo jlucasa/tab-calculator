{
 "cells": [
  {
   "cell_type": "code",
   "execution_count": 35,
   "metadata": {},
   "outputs": [],
   "source": [
    "EVERYONE_TEXT = 'everyone'\n",
    "\n",
    "import re\n",
    "import typing\n",
    "from collections import defaultdict"
   ]
  },
  {
   "cell_type": "code",
   "execution_count": 36,
   "metadata": {},
   "outputs": [],
   "source": [
    "class Item:\n",
    "    def __init__(self, name: str, cost: float, people_to_pay: typing.List=[]) -> None:\n",
    "        self.name = name.strip().lower()\n",
    "        self.cost = cost\n",
    "        self.people_to_pay = people_to_pay\n",
    "\n",
    "    def assign_to_person(self) -> None:\n",
    "        cost_per_person = self.cost / len(self.people_to_pay)\n",
    "\n",
    "        for person in self.people_to_pay:\n",
    "            person.total_due += cost_per_person\n",
    "            person.items.append(self)\n",
    "\n",
    "    def __repr__(self) -> str:\n",
    "        return self.__str__()\n",
    "\n",
    "    def __str__(self) -> str:\n",
    "        return f'Item {self.name.capitalize()} with cost {self.cost} and buyers {[person.name.capitalize() for person in self.people_to_pay]}'\n",
    "\n",
    "class Person:\n",
    "    def __init__(self, name: str) -> None:\n",
    "        self.name = name.strip().lower()\n",
    "        self.items = []\n",
    "        self.total_due = 0.0\n",
    "\n",
    "    def __repr__(self) -> str:\n",
    "        return self.__str__()\n",
    "    \n",
    "    def __str__(self) -> str:\n",
    "        items_with_fractions_formatted = [f'1/{len(item.people_to_pay)} of {item.name.capitalize()}' for item in self.items]\n",
    "        return f'{self.name.capitalize()}, in charge of {items_with_fractions_formatted} with a total cost of {round(self.total_due, 2)}'"
   ]
  },
  {
   "cell_type": "code",
   "execution_count": 41,
   "metadata": {},
   "outputs": [],
   "source": [
    "def remove_currency_symbols(cost_with_currency: str) -> str:\n",
    "    return re.sub(r'[^\\d.,]+', '', cost_with_currency)\n",
    "\n",
    "def get_people_in_line(formatted_people: str, people: typing.List[Person]) -> typing.List[Person]:\n",
    "    people_in_line = [person.lower() for person in re.findall(r'(\\w+)', formatted_people)]\n",
    "\n",
    "    if 'everyone' in people_in_line:\n",
    "        return people\n",
    "\n",
    "    extracted_people = [person for person in people if person.name in people_in_line]\n",
    "\n",
    "    if len(people_in_line) != len(extracted_people):\n",
    "        people_not_found = [person.name for person in people if person.name not in people_in_line]\n",
    "        raise BaseException(f'Some people could not be found in the list of names that you provided: {people_not_found}')\n",
    "\n",
    "    return extracted_people\n",
    "\n",
    "\n",
    "def get_line_items(line: str, people: typing.List[Person]) -> typing.List[str]:\n",
    "    pattern = r'(.+): (.+) \\((.+)\\)'\n",
    "\n",
    "    matches = re.findall(pattern, line)\n",
    "    \n",
    "    if len(matches) == 0:\n",
    "        raise BaseException(f'Incorrectly formatted line: {pattern}')\n",
    "\n",
    "    line_items = matches[0]\n",
    "\n",
    "    if len(line_items) != 3:\n",
    "        raise BaseException(f'Incorrectly formatted line: {pattern}')\n",
    "    \n",
    "    return [\n",
    "        line_items[0],\n",
    "        float(remove_currency_symbols(line_items[1])),\n",
    "        get_people_in_line(line_items[2], people)\n",
    "    ]\n",
    "\n",
    "def get_item_from_line(line: str, people: typing.List[Person]) -> Item:\n",
    "    item, cost, people_to_pay = get_line_items(line, people)\n",
    "    return Item(name=item, cost=cost, people_to_pay=people_to_pay)\n",
    "\n",
    "def get_all_items_from_file(fp: str, people: typing.List[Person]) -> typing.List[Item]:\n",
    "    with open(fp, 'r') as file:\n",
    "        lines = file.readlines()\n",
    "        return [get_item_from_line(line, people) for line in lines]"
   ]
  },
  {
   "cell_type": "code",
   "execution_count": 38,
   "metadata": {},
   "outputs": [],
   "source": [
    "person_names = input('Please enter all names on this tab, separated by a comma.')\n",
    "\n",
    "person_names = [name for name in person_names.split(',')]\n",
    "people = [Person(name=name) for name in person_names]\n",
    "\n",
    "items = get_all_items_from_file('./tabs/costco/costco-tab-08142022.txt', people)"
   ]
  },
  {
   "cell_type": "code",
   "execution_count": 39,
   "metadata": {},
   "outputs": [],
   "source": [
    "for item in items:\n",
    "    item.assign_to_person()"
   ]
  },
  {
   "cell_type": "code",
   "execution_count": 40,
   "metadata": {},
   "outputs": [
    {
     "data": {
      "text/plain": [
       "[Jared, in charge of ['1/1 of Lemon juice', '1/3 of Toilet paper', '1/3 of Paper towels', '1/3 of Rinse aid', '1/3 of Dish soap', '1/3 of Bounce dryer sheets', '1/3 of Magic erasers', '1/3 of Steaks', '1/1 of Gillette razors', '1/1 of Degree deodorant', '1/3 of Clorox wand', '1/3 of Clorox wipes', '1/3 of Downy scent beads', '1/3 of Bath mat', '1/3 of Tax'] with a total cost of 135.41,\n",
       " Carter, in charge of ['1/3 of Toilet paper', '1/3 of Paper towels', '1/1 of Peaches', '1/3 of Rinse aid', '1/3 of Dish soap', '1/3 of Bounce dryer sheets', '1/3 of Magic erasers', '1/3 of Steaks', '1/1 of Cremo shave cream', '1/1 of Degree deodorant', '1/3 of Clorox wand', '1/3 of Clorox wipes', '1/3 of Downy scent beads', '1/3 of Bath mat', '1/2 of Bath mat', '1/3 of Tax'] with a total cost of 112.91,\n",
       " Taimur, in charge of ['1/3 of Toilet paper', '1/3 of Paper towels', '1/3 of Rinse aid', '1/3 of Dish soap', '1/3 of Bounce dryer sheets', '1/3 of Magic erasers', '1/3 of Steaks', '1/3 of Clorox wand', '1/3 of Clorox wipes', '1/3 of Downy scent beads', '1/3 of Bath mat', '1/2 of Bath mat', '1/3 of Tax'] with a total cost of 71.94]"
      ]
     },
     "execution_count": 40,
     "metadata": {},
     "output_type": "execute_result"
    }
   ],
   "source": [
    "people"
   ]
  }
 ],
 "metadata": {
  "kernelspec": {
   "display_name": "Python 3.7.13 ('base')",
   "language": "python",
   "name": "python3"
  },
  "language_info": {
   "codemirror_mode": {
    "name": "ipython",
    "version": 3
   },
   "file_extension": ".py",
   "mimetype": "text/x-python",
   "name": "python",
   "nbconvert_exporter": "python",
   "pygments_lexer": "ipython3",
   "version": "3.7.13"
  },
  "orig_nbformat": 4,
  "vscode": {
   "interpreter": {
    "hash": "00b1ac6c2f042e79a0a2fd4a2fd608a44fbfe38edae15a73a2d5474130574aff"
   }
  }
 },
 "nbformat": 4,
 "nbformat_minor": 2
}

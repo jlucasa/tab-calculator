{
 "cells": [
  {
   "cell_type": "code",
   "execution_count": 2,
   "metadata": {},
   "outputs": [],
   "source": [
    "EVERYONE_TEXT = 'everyone'\n",
    "\n",
    "import re\n",
    "import typing\n",
    "from collections import defaultdict"
   ]
  },
  {
   "cell_type": "code",
   "execution_count": 7,
   "metadata": {},
   "outputs": [],
   "source": [
    "class Item:\n",
    "    def __init__(self, name: str, cost: float, people_to_pay: typing.List) -> None:\n",
    "        self.name = name\n",
    "        self.cost = cost\n",
    "        self.people_to_pay = people_to_pay\n",
    "\n",
    "class Person:\n",
    "    def __init__(self, name: str, items: typing.List) -> None:\n",
    "        self.name = name\n",
    "        self.items = items\n",
    "    \n",
    "    def total_cost(self) -> float:\n",
    "        return sum([item.cost for item in self.items])"
   ]
  },
  {
   "cell_type": "code",
   "execution_count": 8,
   "metadata": {},
   "outputs": [],
   "source": [
    "\n",
    "def remove_currency_symbols(cost_with_currency: str) -> str:\n",
    "    return re.sub(r'[^\\d.,]+', '', cost_with_currency)\n",
    "\n",
    "def get_people_in_line(formatted_people: str, people: typing.List[Person]) -> list:\n",
    "    people_in_line = [person.lower() for person in re.findall(r'(\\w+)', formatted_people)]\n",
    "\n",
    "    if 'everyone' in people_in_line:\n",
    "        return people\n",
    "\n",
    "    extracted_people = [person for person in people if person.name in people_in_line]\n",
    "\n",
    "    if len(people_in_line) != len(extracted_people):\n",
    "        people_not_found = [person for person in people if person.name not in people_in_line]\n",
    "        raise BaseException(f'Some people could not be found in the list of names that you provided: {people_not_found}')\n",
    "\n",
    "\n",
    "def get_line_items(line: str, people: typing.List[Person]) -> typing.List[str]:\n",
    "    pattern = r'(.+): (.+) \\((.+)\\)'\n",
    "\n",
    "    matches = re.findall(pattern, line)\n",
    "    \n",
    "    if len(matches) == 0:\n",
    "        raise BaseException(f'Incorrectly formatted line: {pattern}')\n",
    "\n",
    "    line_items = matches[0]\n",
    "\n",
    "    if len(line_items) != 3:\n",
    "        raise BaseException(f'Incorrectly formatted line: {pattern}')\n",
    "    \n",
    "    return [\n",
    "        line_items[0],\n",
    "        float(remove_currency_symbols(line_items[1])),\n",
    "        get_people_in_line(line_items[2])\n",
    "    ]\n",
    "\n",
    "def parse_line(line: str, people: typing.List[Person]) -> Item:\n",
    "    item, cost, people_to_pay = get_line_items(line, people)\n",
    "    return Item(name=item, cost=cost, people_to_pay=people_to_pay)\n",
    "\n",
    "def parse_all_lines(fp: str, people: typing.List[Person]) -> typing.List[Item]:\n",
    "    with open(fp, 'r') as file:\n",
    "        lines = file.readlines()\n",
    "        return [parse_line(line, people) for line in lines]"
   ]
  },
  {
   "cell_type": "code",
   "execution_count": 9,
   "metadata": {},
   "outputs": [
    {
     "ename": "TypeError",
     "evalue": "parse_all_lines() missing 1 required positional argument: 'people'",
     "output_type": "error",
     "traceback": [
      "\u001b[0;31m---------------------------------------------------------------------------\u001b[0m",
      "\u001b[0;31mTypeError\u001b[0m                                 Traceback (most recent call last)",
      "\u001b[0;32m/var/folders/wx/sjs8pk4x0s37ytcdvf1j38f40000gn/T/ipykernel_39731/2782177448.py\u001b[0m in \u001b[0;36m<module>\u001b[0;34m\u001b[0m\n\u001b[0;32m----> 1\u001b[0;31m \u001b[0mparse_all_lines\u001b[0m\u001b[0;34m(\u001b[0m\u001b[0;34m'./tabs/costco/costco-tab-08142022.txt'\u001b[0m\u001b[0;34m)\u001b[0m\u001b[0;34m\u001b[0m\u001b[0;34m\u001b[0m\u001b[0m\n\u001b[0m",
      "\u001b[0;31mTypeError\u001b[0m: parse_all_lines() missing 1 required positional argument: 'people'"
     ]
    }
   ],
   "source": [
    "parse_all_lines('./tabs/costco/costco-tab-08142022.txt')"
   ]
  }
 ],
 "metadata": {
  "kernelspec": {
   "display_name": "Python 3.7.13 ('base')",
   "language": "python",
   "name": "python3"
  },
  "language_info": {
   "codemirror_mode": {
    "name": "ipython",
    "version": 3
   },
   "file_extension": ".py",
   "mimetype": "text/x-python",
   "name": "python",
   "nbconvert_exporter": "python",
   "pygments_lexer": "ipython3",
   "version": "3.7.13"
  },
  "orig_nbformat": 4,
  "vscode": {
   "interpreter": {
    "hash": "00b1ac6c2f042e79a0a2fd4a2fd608a44fbfe38edae15a73a2d5474130574aff"
   }
  }
 },
 "nbformat": 4,
 "nbformat_minor": 2
}

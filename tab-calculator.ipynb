{
 "cells": [
  {
   "cell_type": "code",
   "execution_count": 5,
   "metadata": {},
   "outputs": [],
   "source": [
    "EVERYONE_TEXT = 'everyone'\n",
    "\n",
    "import re\n",
    "\n",
    "def line_format_is_consistent(line: str) -> bool:\n",
    "    return ':' in line and '(' in line and ')' in line\n",
    "\n",
    "def remove_currency_symbols(cost_with_currency: str) -> str:\n",
    "    return re.sub(r'[^\\d.,]+', '', cost_with_currency)\n",
    "\n",
    "def get_people_in_line(formatted_people: str) -> list:\n",
    "    return re.findall(r'(\\w+)', formatted_people)\n",
    "\n",
    "def parse_line(line: str, all_people: list) -> dict:\n",
    "    if not line_format_is_consistent(line):\n",
    "        raise BaseException(f'Incorrectly formatted line: {line}')\n",
    "\n",
    "    # Group 1: Item\n",
    "    # Group 2: Cost\n",
    "    # Group 3: People\n",
    "    pattern = r'(.+): (.+) \\((.+)\\)'\n",
    "\n",
    "    matches = re.findall(pattern, line)[0]\n",
    "    item = matches[0]\n",
    "    cost = float(remove_currency_symbols(matches[1]))\n",
    "    people_to_pay = get_people_in_line(matches[2])\n",
    "\n",
    "    return {\n",
    "        'item': item,\n",
    "        'cost': cost,\n",
    "        'people': people_to_pay\n",
    "    }\n",
    "\n",
    "def get_all_people(lines: list) -> list:\n",
    "    unique_people = set()\n",
    "    for line in lines:\n",
    "        people_in_line = get_people_in_line(line)\n",
    "        unique_people.add(person for person in people_in_line)\n",
    "        \n",
    "    return [*unique_people]\n",
    "\n",
    "def parse_all_lines(fp: str) -> list:\n",
    "    with open(fp, 'r') as file:\n",
    "        lines = file.readlines()\n",
    "        people = get_all_people(lines)\n",
    "        return [parse_line(line, people) for line in lines]"
   ]
  },
  {
   "cell_type": "code",
   "execution_count": 6,
   "metadata": {},
   "outputs": [
    {
     "ename": "TypeError",
     "evalue": "sub() missing 1 required positional argument: 'string'",
     "output_type": "error",
     "traceback": [
      "\u001b[0;31m---------------------------------------------------------------------------\u001b[0m",
      "\u001b[0;31mTypeError\u001b[0m                                 Traceback (most recent call last)",
      "\u001b[0;32m/var/folders/wx/sjs8pk4x0s37ytcdvf1j38f40000gn/T/ipykernel_7263/2782177448.py\u001b[0m in \u001b[0;36m<module>\u001b[0;34m\u001b[0m\n\u001b[0;32m----> 1\u001b[0;31m \u001b[0mparse_all_lines\u001b[0m\u001b[0;34m(\u001b[0m\u001b[0;34m'./tabs/costco/costco-tab-08142022.txt'\u001b[0m\u001b[0;34m)\u001b[0m\u001b[0;34m\u001b[0m\u001b[0;34m\u001b[0m\u001b[0m\n\u001b[0m",
      "\u001b[0;32m/var/folders/wx/sjs8pk4x0s37ytcdvf1j38f40000gn/T/ipykernel_7263/513289818.py\u001b[0m in \u001b[0;36mparse_all_lines\u001b[0;34m(fp)\u001b[0m\n\u001b[1;32m     44\u001b[0m         \u001b[0mlines\u001b[0m \u001b[0;34m=\u001b[0m \u001b[0mfile\u001b[0m\u001b[0;34m.\u001b[0m\u001b[0mreadlines\u001b[0m\u001b[0;34m(\u001b[0m\u001b[0;34m)\u001b[0m\u001b[0;34m\u001b[0m\u001b[0;34m\u001b[0m\u001b[0m\n\u001b[1;32m     45\u001b[0m         \u001b[0mpeople\u001b[0m \u001b[0;34m=\u001b[0m \u001b[0mget_all_people\u001b[0m\u001b[0;34m(\u001b[0m\u001b[0mlines\u001b[0m\u001b[0;34m)\u001b[0m\u001b[0;34m\u001b[0m\u001b[0;34m\u001b[0m\u001b[0m\n\u001b[0;32m---> 46\u001b[0;31m         \u001b[0;32mreturn\u001b[0m \u001b[0;34m[\u001b[0m\u001b[0mparse_line\u001b[0m\u001b[0;34m(\u001b[0m\u001b[0mline\u001b[0m\u001b[0;34m,\u001b[0m \u001b[0mpeople\u001b[0m\u001b[0;34m)\u001b[0m \u001b[0;32mfor\u001b[0m \u001b[0mline\u001b[0m \u001b[0;32min\u001b[0m \u001b[0mlines\u001b[0m\u001b[0;34m]\u001b[0m\u001b[0;34m\u001b[0m\u001b[0;34m\u001b[0m\u001b[0m\n\u001b[0m",
      "\u001b[0;32m/var/folders/wx/sjs8pk4x0s37ytcdvf1j38f40000gn/T/ipykernel_7263/513289818.py\u001b[0m in \u001b[0;36m<listcomp>\u001b[0;34m(.0)\u001b[0m\n\u001b[1;32m     44\u001b[0m         \u001b[0mlines\u001b[0m \u001b[0;34m=\u001b[0m \u001b[0mfile\u001b[0m\u001b[0;34m.\u001b[0m\u001b[0mreadlines\u001b[0m\u001b[0;34m(\u001b[0m\u001b[0;34m)\u001b[0m\u001b[0;34m\u001b[0m\u001b[0;34m\u001b[0m\u001b[0m\n\u001b[1;32m     45\u001b[0m         \u001b[0mpeople\u001b[0m \u001b[0;34m=\u001b[0m \u001b[0mget_all_people\u001b[0m\u001b[0;34m(\u001b[0m\u001b[0mlines\u001b[0m\u001b[0;34m)\u001b[0m\u001b[0;34m\u001b[0m\u001b[0;34m\u001b[0m\u001b[0m\n\u001b[0;32m---> 46\u001b[0;31m         \u001b[0;32mreturn\u001b[0m \u001b[0;34m[\u001b[0m\u001b[0mparse_line\u001b[0m\u001b[0;34m(\u001b[0m\u001b[0mline\u001b[0m\u001b[0;34m,\u001b[0m \u001b[0mpeople\u001b[0m\u001b[0;34m)\u001b[0m \u001b[0;32mfor\u001b[0m \u001b[0mline\u001b[0m \u001b[0;32min\u001b[0m \u001b[0mlines\u001b[0m\u001b[0;34m]\u001b[0m\u001b[0;34m\u001b[0m\u001b[0;34m\u001b[0m\u001b[0m\n\u001b[0m",
      "\u001b[0;32m/var/folders/wx/sjs8pk4x0s37ytcdvf1j38f40000gn/T/ipykernel_7263/513289818.py\u001b[0m in \u001b[0;36mparse_line\u001b[0;34m(line, all_people)\u001b[0m\n\u001b[1;32m     23\u001b[0m     \u001b[0mmatches\u001b[0m \u001b[0;34m=\u001b[0m \u001b[0mre\u001b[0m\u001b[0;34m.\u001b[0m\u001b[0mfindall\u001b[0m\u001b[0;34m(\u001b[0m\u001b[0mpattern\u001b[0m\u001b[0;34m,\u001b[0m \u001b[0mline\u001b[0m\u001b[0;34m)\u001b[0m\u001b[0;34m[\u001b[0m\u001b[0;36m0\u001b[0m\u001b[0;34m]\u001b[0m\u001b[0;34m\u001b[0m\u001b[0;34m\u001b[0m\u001b[0m\n\u001b[1;32m     24\u001b[0m     \u001b[0mitem\u001b[0m \u001b[0;34m=\u001b[0m \u001b[0mmatches\u001b[0m\u001b[0;34m[\u001b[0m\u001b[0;36m0\u001b[0m\u001b[0;34m]\u001b[0m\u001b[0;34m\u001b[0m\u001b[0;34m\u001b[0m\u001b[0m\n\u001b[0;32m---> 25\u001b[0;31m     \u001b[0mcost\u001b[0m \u001b[0;34m=\u001b[0m \u001b[0mfloat\u001b[0m\u001b[0;34m(\u001b[0m\u001b[0mremove_currency_symbols\u001b[0m\u001b[0;34m(\u001b[0m\u001b[0mmatches\u001b[0m\u001b[0;34m[\u001b[0m\u001b[0;36m1\u001b[0m\u001b[0;34m]\u001b[0m\u001b[0;34m)\u001b[0m\u001b[0;34m)\u001b[0m\u001b[0;34m\u001b[0m\u001b[0;34m\u001b[0m\u001b[0m\n\u001b[0m\u001b[1;32m     26\u001b[0m     \u001b[0mpeople_to_pay\u001b[0m \u001b[0;34m=\u001b[0m \u001b[0mget_people_in_line\u001b[0m\u001b[0;34m(\u001b[0m\u001b[0mmatches\u001b[0m\u001b[0;34m[\u001b[0m\u001b[0;36m2\u001b[0m\u001b[0;34m]\u001b[0m\u001b[0;34m)\u001b[0m\u001b[0;34m\u001b[0m\u001b[0;34m\u001b[0m\u001b[0m\n\u001b[1;32m     27\u001b[0m \u001b[0;34m\u001b[0m\u001b[0m\n",
      "\u001b[0;32m/var/folders/wx/sjs8pk4x0s37ytcdvf1j38f40000gn/T/ipykernel_7263/513289818.py\u001b[0m in \u001b[0;36mremove_currency_symbols\u001b[0;34m(cost_with_currency)\u001b[0m\n\u001b[1;32m      7\u001b[0m \u001b[0;34m\u001b[0m\u001b[0m\n\u001b[1;32m      8\u001b[0m \u001b[0;32mdef\u001b[0m \u001b[0mremove_currency_symbols\u001b[0m\u001b[0;34m(\u001b[0m\u001b[0mcost_with_currency\u001b[0m\u001b[0;34m:\u001b[0m \u001b[0mstr\u001b[0m\u001b[0;34m)\u001b[0m \u001b[0;34m->\u001b[0m \u001b[0mstr\u001b[0m\u001b[0;34m:\u001b[0m\u001b[0;34m\u001b[0m\u001b[0;34m\u001b[0m\u001b[0m\n\u001b[0;32m----> 9\u001b[0;31m     \u001b[0;32mreturn\u001b[0m \u001b[0mre\u001b[0m\u001b[0;34m.\u001b[0m\u001b[0msub\u001b[0m\u001b[0;34m(\u001b[0m\u001b[0;34mr'[^\\d.,]+'\u001b[0m\u001b[0;34m,\u001b[0m \u001b[0mcost_with_currency\u001b[0m\u001b[0;34m)\u001b[0m\u001b[0;34m\u001b[0m\u001b[0;34m\u001b[0m\u001b[0m\n\u001b[0m\u001b[1;32m     10\u001b[0m \u001b[0;34m\u001b[0m\u001b[0m\n\u001b[1;32m     11\u001b[0m \u001b[0;32mdef\u001b[0m \u001b[0mget_people_in_line\u001b[0m\u001b[0;34m(\u001b[0m\u001b[0mformatted_people\u001b[0m\u001b[0;34m:\u001b[0m \u001b[0mstr\u001b[0m\u001b[0;34m)\u001b[0m \u001b[0;34m->\u001b[0m \u001b[0mlist\u001b[0m\u001b[0;34m:\u001b[0m\u001b[0;34m\u001b[0m\u001b[0;34m\u001b[0m\u001b[0m\n",
      "\u001b[0;31mTypeError\u001b[0m: sub() missing 1 required positional argument: 'string'"
     ]
    }
   ],
   "source": [
    "parse_all_lines('./tabs/costco/costco-tab-08142022.txt')"
   ]
  }
 ],
 "metadata": {
  "kernelspec": {
   "display_name": "Python 3.7.13 ('base')",
   "language": "python",
   "name": "python3"
  },
  "language_info": {
   "codemirror_mode": {
    "name": "ipython",
    "version": 3
   },
   "file_extension": ".py",
   "mimetype": "text/x-python",
   "name": "python",
   "nbconvert_exporter": "python",
   "pygments_lexer": "ipython3",
   "version": "3.7.13"
  },
  "orig_nbformat": 4,
  "vscode": {
   "interpreter": {
    "hash": "00b1ac6c2f042e79a0a2fd4a2fd608a44fbfe38edae15a73a2d5474130574aff"
   }
  }
 },
 "nbformat": 4,
 "nbformat_minor": 2
}
